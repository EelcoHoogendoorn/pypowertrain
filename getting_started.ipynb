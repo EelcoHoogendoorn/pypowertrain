{
 "cells": [
  {
   "cell_type": "code",
   "execution_count": null,
   "id": "e3aa1b35-529c-420b-9af4-552a91008265",
   "metadata": {},
   "outputs": [],
   "source": [
    "from pypowertrain.components.battery import Battery, define_battery_limits\n",
    "from pypowertrain.components.actuator import Actuator\n",
    "from pypowertrain.system import System, system_dash\n",
    "from pypowertrain.library import grin, odrive\n"
   ]
  },
  {
   "cell_type": "code",
   "execution_count": null,
   "id": "07f17f76-15ec-422b-8736-c666a54654d3",
   "metadata": {},
   "outputs": [],
   "source": [
    "system = System(\n",
    "    actuator=Actuator(\n",
    "        motor=grin.all_axle(turns=5),\n",
    "        controller=odrive.pro()\n",
    "    ),\n",
    "    battery=define_battery_limits(v=58, wh=500)\n",
    ")"
   ]
  },
  {
   "cell_type": "code",
   "execution_count": null,
   "id": "797f8e49-105b-4d0f-837d-7411f8df3164",
   "metadata": {},
   "outputs": [],
   "source": [
    "system_dash(system).run(jupyter_mode=\"tab\")"
   ]
  }
 ],
 "metadata": {
  "kernelspec": {
   "display_name": "Python 3 (ipykernel)",
   "language": "python",
   "name": "python3"
  },
  "language_info": {
   "codemirror_mode": {
    "name": "ipython",
    "version": 3
   },
   "file_extension": ".py",
   "mimetype": "text/x-python",
   "name": "python",
   "nbconvert_exporter": "python",
   "pygments_lexer": "ipython3",
   "version": "3.12.4"
  }
 },
 "nbformat": 4,
 "nbformat_minor": 5
}
