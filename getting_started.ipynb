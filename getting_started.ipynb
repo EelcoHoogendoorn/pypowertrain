{
 "cells": [
  {
   "cell_type": "code",
   "execution_count": null,
   "id": "e3aa1b35-529c-420b-9af4-552a91008265",
   "metadata": {},
   "outputs": [],
   "source": [
    "from pypowertrain.components.battery import Battery, define_battery\n",
    "from pypowertrain.components.actuator import Actuator\n",
    "from pypowertrain.system import System, system_plot\n",
    "from pypowertrain.library import grin, odrive, moteus\n",
    "from pypowertrain.app import system_dash"
   ]
  },
  {
   "cell_type": "code",
   "execution_count": null,
   "id": "ab883fe3-1f26-4c0b-9472-54b79e4fc6f6",
   "metadata": {},
   "outputs": [],
   "source": [
    "from pypowertrain.bike.bike import BikeSystem, BikeLoad\n",
    "bike = BikeSystem(\n",
    "    actuator=Actuator(\n",
    "        motor=grin.all_axle(turns=8),\n",
    "        controller=odrive.pro(),\n",
    "    ),\n",
    "    battery=define_battery(v=58, wh=800),\n",
    "    load=BikeLoad(\n",
    "        CdA=0.7 * 0.8,\n",
    "        Cr=0.004,\n",
    "        structure_weight=30,\n",
    "        rider_weight=80,\n",
    "        nominal_kmh=32,\n",
    "        wheel_diameter=24 * 25.4e-3,\n",
    "        front=False, rear=True,\n",
    "    ),\n",
    ")"
   ]
  },
  {
   "cell_type": "code",
   "execution_count": null,
   "id": "960ebecb-d3eb-4211-94f9-41ba144d2911",
   "metadata": {},
   "outputs": [],
   "source": [
    "system_plot(bike)\n",
    "# bike.actuator.motor.geometry.plot()"
   ]
  },
  {
   "cell_type": "markdown",
   "id": "9d6ae260-97d1-4eff-b8e2-eb2a5ef362f8",
   "metadata": {},
   "source": [
    "Interactive dash app can be launched below. This currenty only works from within a jupyter notebook on your local machine. Support for launching from a cloud notebook is a work in progress."
   ]
  },
  {
   "cell_type": "code",
   "execution_count": null,
   "id": "4bbc634c-d632-4979-8e01-07ed8b5278d7",
   "metadata": {},
   "outputs": [],
   "source": [
    "system_dash(bike).run(jupyter_mode=\"tab\")"
   ]
  }
 ],
 "metadata": {
  "kernelspec": {
   "display_name": "Python 3 (ipykernel)",
   "language": "python",
   "name": "python3"
  },
  "language_info": {
   "codemirror_mode": {
    "name": "ipython",
    "version": 3
   },
   "file_extension": ".py",
   "mimetype": "text/x-python",
   "name": "python",
   "nbconvert_exporter": "python",
   "pygments_lexer": "ipython3",
   "version": "3.12.7"
  }
 },
 "nbformat": 4,
 "nbformat_minor": 5
}
